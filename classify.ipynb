{
 "cells": [
  {
   "cell_type": "code",
   "execution_count": 1,
   "metadata": {},
   "outputs": [],
   "source": [
    "import re\n",
    "import pandas as pd\n",
    "from tqdm.auto import tqdm\n",
    "tqdm.pandas()\n",
    "from collections import defaultdict\n",
    "#import spacy\n",
    "#import textacy\n",
    "#nlp = spacy.load(\"en_core_web_sm\", disable=[\"parser\", \"ner\"])"
   ]
  },
  {
   "cell_type": "code",
   "execution_count": 2,
   "metadata": {},
   "outputs": [],
   "source": [
    "# load term matrix\n",
    "import pickle\n",
    "with open('data/term_matrix.pkl', 'rb') as f:\n",
    "    matrix = pickle.load(f)\n",
    "    f.close()"
   ]
  },
  {
   "cell_type": "code",
   "execution_count": 3,
   "metadata": {},
   "outputs": [],
   "source": [
    "# load original reviews df\n",
    "with open('data/reviews_processed.pkl', 'rb') as f:\n",
    "    reviews = pickle.load(f)\n",
    "    f.close()"
   ]
  },
  {
   "cell_type": "code",
   "execution_count": 4,
   "metadata": {},
   "outputs": [],
   "source": [
    "# load look-up dict\n",
    "with open('data/vocab_key.pkl', 'rb') as f:\n",
    "    vocab = pickle.load(f)\n",
    "    f.close()"
   ]
  },
  {
   "cell_type": "code",
   "execution_count": null,
   "metadata": {
    "scrolled": true
   },
   "outputs": [],
   "source": [
    "matrix.shape"
   ]
  },
  {
   "cell_type": "code",
   "execution_count": null,
   "metadata": {},
   "outputs": [],
   "source": [
    "# make class balanced\n",
    "# processed_df = reviews.groupby('star_rating')\n",
    "# processed_df = pd.DataFrame(processed_df.progress_apply(\n",
    "#     lambda x: x.sample(processed_df.size().min()).reset_index(drop=True)))\n",
    "# processed_df.head()"
   ]
  },
  {
   "cell_type": "code",
   "execution_count": 5,
   "metadata": {},
   "outputs": [],
   "source": [
    "# create new df\n",
    "y = reviews['star_rating']\n",
    "\n",
    "# Try product department instead of class\n",
    "X = pd.DataFrame({'class':reviews['product_category_department'],\n",
    "                  'upvotes':reviews['upvotes']})"
   ]
  },
  {
   "cell_type": "code",
   "execution_count": null,
   "metadata": {},
   "outputs": [],
   "source": [
    "# create df for features\n",
    "lemmas = pd.DataFrame(columns=vocab.keys())"
   ]
  },
  {
   "cell_type": "code",
   "execution_count": null,
   "metadata": {},
   "outputs": [],
   "source": [
    "NUM_DOCS = len(X)\n",
    "\n",
    "for c in tqdm(lemmas.columns.values, desc='Adding data to columns'):\n",
    "    vocab_index = vocab[c]\n",
    "    data = []\n",
    "    for i in range(NUM_DOCS):\n",
    "        data.append(matrix[(i, vocab_index)])\n",
    "    lemmas[c] = data"
   ]
  },
  {
   "cell_type": "code",
   "execution_count": null,
   "metadata": {},
   "outputs": [],
   "source": [
    "X = X.reset_index(drop=True)\n",
    "X.shape"
   ]
  },
  {
   "cell_type": "code",
   "execution_count": null,
   "metadata": {},
   "outputs": [],
   "source": [
    "lemmas = lemmas.reset_index(drop=True)\n",
    "lemmas.shape"
   ]
  },
  {
   "cell_type": "code",
   "execution_count": null,
   "metadata": {},
   "outputs": [],
   "source": [
    "X_feats = pd.concat([X, lemmas], axis=1)"
   ]
  },
  {
   "cell_type": "code",
   "execution_count": null,
   "metadata": {},
   "outputs": [],
   "source": [
    "X_feats.shape"
   ]
  },
  {
   "cell_type": "code",
   "execution_count": null,
   "metadata": {
    "scrolled": true
   },
   "outputs": [],
   "source": [
    "# make product class dummy variable\n",
    "prod_class = pd.get_dummies(X['class'])\n",
    "prod_class = prod_class.reset_index(drop=True)"
   ]
  },
  {
   "cell_type": "code",
   "execution_count": null,
   "metadata": {},
   "outputs": [],
   "source": [
    "# drop original class columns\n",
    "# concat prod_class\n",
    "X_feats.drop('class', axis=1, inplace=True)\n",
    "X_feats = pd.concat([X_feats, prod_class], axis=1)"
   ]
  },
  {
   "cell_type": "code",
   "execution_count": null,
   "metadata": {},
   "outputs": [],
   "source": [
    "X_feats.shape"
   ]
  },
  {
   "cell_type": "code",
   "execution_count": 6,
   "metadata": {},
   "outputs": [],
   "source": [
    "# X_feats.to_csv(\"data/features.csv\", index=False)\n",
    "X_feats = pd.read_csv(\"data/senti_features.csv\")"
   ]
  },
  {
   "cell_type": "code",
   "execution_count": 7,
   "metadata": {},
   "outputs": [
    {
     "data": {
      "text/html": [
       "<div>\n",
       "<style scoped>\n",
       "    .dataframe tbody tr th:only-of-type {\n",
       "        vertical-align: middle;\n",
       "    }\n",
       "\n",
       "    .dataframe tbody tr th {\n",
       "        vertical-align: top;\n",
       "    }\n",
       "\n",
       "    .dataframe thead th {\n",
       "        text-align: right;\n",
       "    }\n",
       "</style>\n",
       "<table border=\"1\" class=\"dataframe\">\n",
       "  <thead>\n",
       "    <tr style=\"text-align: right;\">\n",
       "      <th></th>\n",
       "      <th>absolut</th>\n",
       "      <th>wonder</th>\n",
       "      <th>silki</th>\n",
       "      <th>sexi</th>\n",
       "      <th>comfort</th>\n",
       "      <th>love</th>\n",
       "      <th>dress</th>\n",
       "      <th>sooo</th>\n",
       "      <th>pretti</th>\n",
       "      <th>happen</th>\n",
       "      <th>...</th>\n",
       "      <th>moth</th>\n",
       "      <th>bailey</th>\n",
       "      <th>engag</th>\n",
       "      <th>umbrella</th>\n",
       "      <th>bottoms</th>\n",
       "      <th>dresses</th>\n",
       "      <th>intimate</th>\n",
       "      <th>jackets</th>\n",
       "      <th>tops</th>\n",
       "      <th>trend.1</th>\n",
       "    </tr>\n",
       "  </thead>\n",
       "  <tbody>\n",
       "    <tr>\n",
       "      <th>0</th>\n",
       "      <td>0.08991</td>\n",
       "      <td>0.152306</td>\n",
       "      <td>0.03224</td>\n",
       "      <td>0.147115</td>\n",
       "      <td>-0.092850</td>\n",
       "      <td>0.000000</td>\n",
       "      <td>0.000000</td>\n",
       "      <td>0.00000</td>\n",
       "      <td>0.000000</td>\n",
       "      <td>0.000000</td>\n",
       "      <td>...</td>\n",
       "      <td>0.0</td>\n",
       "      <td>0.0</td>\n",
       "      <td>0.0</td>\n",
       "      <td>0.0</td>\n",
       "      <td>0</td>\n",
       "      <td>0</td>\n",
       "      <td>1</td>\n",
       "      <td>0</td>\n",
       "      <td>0</td>\n",
       "      <td>0</td>\n",
       "    </tr>\n",
       "    <tr>\n",
       "      <th>1</th>\n",
       "      <td>0.00000</td>\n",
       "      <td>0.000000</td>\n",
       "      <td>0.00000</td>\n",
       "      <td>0.000000</td>\n",
       "      <td>0.000000</td>\n",
       "      <td>0.010558</td>\n",
       "      <td>0.024489</td>\n",
       "      <td>0.08054</td>\n",
       "      <td>-0.004734</td>\n",
       "      <td>0.066538</td>\n",
       "      <td>...</td>\n",
       "      <td>0.0</td>\n",
       "      <td>0.0</td>\n",
       "      <td>0.0</td>\n",
       "      <td>0.0</td>\n",
       "      <td>0</td>\n",
       "      <td>1</td>\n",
       "      <td>0</td>\n",
       "      <td>0</td>\n",
       "      <td>0</td>\n",
       "      <td>0</td>\n",
       "    </tr>\n",
       "    <tr>\n",
       "      <th>2</th>\n",
       "      <td>0.00000</td>\n",
       "      <td>0.000000</td>\n",
       "      <td>0.00000</td>\n",
       "      <td>0.000000</td>\n",
       "      <td>-0.012742</td>\n",
       "      <td>0.000000</td>\n",
       "      <td>0.003152</td>\n",
       "      <td>0.00000</td>\n",
       "      <td>0.000000</td>\n",
       "      <td>0.000000</td>\n",
       "      <td>...</td>\n",
       "      <td>0.0</td>\n",
       "      <td>0.0</td>\n",
       "      <td>0.0</td>\n",
       "      <td>0.0</td>\n",
       "      <td>0</td>\n",
       "      <td>1</td>\n",
       "      <td>0</td>\n",
       "      <td>0</td>\n",
       "      <td>0</td>\n",
       "      <td>0</td>\n",
       "    </tr>\n",
       "    <tr>\n",
       "      <th>3</th>\n",
       "      <td>0.00000</td>\n",
       "      <td>0.000000</td>\n",
       "      <td>0.00000</td>\n",
       "      <td>0.000000</td>\n",
       "      <td>0.000000</td>\n",
       "      <td>0.017284</td>\n",
       "      <td>0.000000</td>\n",
       "      <td>0.00000</td>\n",
       "      <td>0.000000</td>\n",
       "      <td>0.000000</td>\n",
       "      <td>...</td>\n",
       "      <td>0.0</td>\n",
       "      <td>0.0</td>\n",
       "      <td>0.0</td>\n",
       "      <td>0.0</td>\n",
       "      <td>1</td>\n",
       "      <td>0</td>\n",
       "      <td>0</td>\n",
       "      <td>0</td>\n",
       "      <td>0</td>\n",
       "      <td>0</td>\n",
       "    </tr>\n",
       "    <tr>\n",
       "      <th>4</th>\n",
       "      <td>0.00000</td>\n",
       "      <td>0.000000</td>\n",
       "      <td>0.00000</td>\n",
       "      <td>0.000000</td>\n",
       "      <td>0.000000</td>\n",
       "      <td>0.019062</td>\n",
       "      <td>0.000000</td>\n",
       "      <td>0.00000</td>\n",
       "      <td>0.000000</td>\n",
       "      <td>0.000000</td>\n",
       "      <td>...</td>\n",
       "      <td>0.0</td>\n",
       "      <td>0.0</td>\n",
       "      <td>0.0</td>\n",
       "      <td>0.0</td>\n",
       "      <td>0</td>\n",
       "      <td>0</td>\n",
       "      <td>0</td>\n",
       "      <td>0</td>\n",
       "      <td>1</td>\n",
       "      <td>0</td>\n",
       "    </tr>\n",
       "  </tbody>\n",
       "</table>\n",
       "<p>5 rows × 2005 columns</p>\n",
       "</div>"
      ],
      "text/plain": [
       "   absolut    wonder    silki      sexi   comfort      love     dress  \\\n",
       "0  0.08991  0.152306  0.03224  0.147115 -0.092850  0.000000  0.000000   \n",
       "1  0.00000  0.000000  0.00000  0.000000  0.000000  0.010558  0.024489   \n",
       "2  0.00000  0.000000  0.00000  0.000000 -0.012742  0.000000  0.003152   \n",
       "3  0.00000  0.000000  0.00000  0.000000  0.000000  0.017284  0.000000   \n",
       "4  0.00000  0.000000  0.00000  0.000000  0.000000  0.019062  0.000000   \n",
       "\n",
       "      sooo    pretti    happen  ...  moth  bailey  engag  umbrella  bottoms  \\\n",
       "0  0.00000  0.000000  0.000000  ...   0.0     0.0    0.0       0.0        0   \n",
       "1  0.08054 -0.004734  0.066538  ...   0.0     0.0    0.0       0.0        0   \n",
       "2  0.00000  0.000000  0.000000  ...   0.0     0.0    0.0       0.0        0   \n",
       "3  0.00000  0.000000  0.000000  ...   0.0     0.0    0.0       0.0        1   \n",
       "4  0.00000  0.000000  0.000000  ...   0.0     0.0    0.0       0.0        0   \n",
       "\n",
       "   dresses  intimate  jackets  tops  trend.1  \n",
       "0        0         1        0     0        0  \n",
       "1        1         0        0     0        0  \n",
       "2        1         0        0     0        0  \n",
       "3        0         0        0     0        0  \n",
       "4        0         0        0     1        0  \n",
       "\n",
       "[5 rows x 2005 columns]"
      ]
     },
     "execution_count": 7,
     "metadata": {},
     "output_type": "execute_result"
    }
   ],
   "source": [
    "X_feats = X_feats.drop('upvotes', axis=1)"
   ]
  },
  {
   "cell_type": "code",
   "execution_count": 9,
   "metadata": {},
   "outputs": [],
   "source": [
    "# change to a 3 class problem\n",
    "new_ys = []\n",
    "for score in y:\n",
    "    if score < 3:\n",
    "        new_ys.append(0)\n",
    "    elif score == 3:\n",
    "        new_ys.append(1)\n",
    "    else:\n",
    "        new_ys.append(2)"
   ]
  },
  {
   "cell_type": "code",
   "execution_count": 28,
   "metadata": {},
   "outputs": [
    {
     "name": "stderr",
     "output_type": "stream",
     "text": [
      "/Library/Frameworks/Python.framework/Versions/3.7/lib/python3.7/site-packages/sklearn/preprocessing/data.py:645: DataConversionWarning: Data with input dtype int64, float64 were all converted to float64 by StandardScaler.\n",
      "  return self.partial_fit(X, y)\n",
      "/Library/Frameworks/Python.framework/Versions/3.7/lib/python3.7/site-packages/sklearn/base.py:464: DataConversionWarning: Data with input dtype int64, float64 were all converted to float64 by StandardScaler.\n",
      "  return self.fit(X, **fit_params).transform(X)\n",
      "/Library/Frameworks/Python.framework/Versions/3.7/lib/python3.7/site-packages/ipykernel_launcher.py:6: DataConversionWarning: Data with input dtype int64, float64 were all converted to float64 by StandardScaler.\n",
      "  \n"
     ]
    }
   ],
   "source": [
    "# resplit and fit scaler\n",
    "x_train, x_test, y_train, y_test = train_test_split(X_feats, new_ys, test_size=0.2, random_state=1234)\n",
    "\n",
    "scaler = StandardScaler()\n",
    "x_train = scaler.fit_transform(x_train)\n",
    "x_test = scaler.transform(x_test)"
   ]
  },
  {
   "cell_type": "code",
   "execution_count": 29,
   "metadata": {},
   "outputs": [
    {
     "data": {
      "text/plain": [
       "RandomForestClassifier(bootstrap=True, class_weight=None, criterion='gini',\n",
       "            max_depth=None, max_features='auto', max_leaf_nodes=None,\n",
       "            min_impurity_decrease=0.0, min_impurity_split=None,\n",
       "            min_samples_leaf=1, min_samples_split=2,\n",
       "            min_weight_fraction_leaf=0.0, n_estimators=100, n_jobs=None,\n",
       "            oob_score=False, random_state=None, verbose=0,\n",
       "            warm_start=False)"
      ]
     },
     "execution_count": 29,
     "metadata": {},
     "output_type": "execute_result"
    }
   ],
   "source": [
    "# Fit Random Forest\n",
    "from sklearn.ensemble import RandomForestClassifier\n",
    "\n",
    "rf = RandomForestClassifier(n_estimators=100)\n",
    "rf.fit(x_train, y_train)"
   ]
  },
  {
   "cell_type": "code",
   "execution_count": 30,
   "metadata": {},
   "outputs": [
    {
     "data": {
      "text/plain": [
       "LogisticRegression(C=1.0, class_weight=None, dual=False, fit_intercept=True,\n",
       "          intercept_scaling=1, max_iter=100, multi_class='multinomial',\n",
       "          n_jobs=-1, penalty='l2', random_state=None, solver='lbfgs',\n",
       "          tol=0.0001, verbose=0, warm_start=False)"
      ]
     },
     "execution_count": 30,
     "metadata": {},
     "output_type": "execute_result"
    }
   ],
   "source": [
    "# Fit Logistic Regression\n",
    "from sklearn.linear_model import LogisticRegression\n",
    "\n",
    "lr = LogisticRegression(solver='lbfgs', \n",
    "                        multi_class='multinomial', \n",
    "                        n_jobs=-1)\n",
    "lr.fit(x_train, y_train)"
   ]
  },
  {
   "cell_type": "code",
   "execution_count": 31,
   "metadata": {},
   "outputs": [
    {
     "name": "stdout",
     "output_type": "stream",
     "text": [
      "Random Forest\n",
      "F1_Weighted 0.7376889673978086\n",
      "Accuracy 0.8008390373150805\n",
      "MAE 0.27997350408478694\n",
      "****************************************\n",
      "              precision    recall  f1-score   support\n",
      "\n",
      "         Bad       0.58      0.20      0.30       449\n",
      "     Neutral       0.48      0.04      0.08       534\n",
      "        Good       0.81      0.99      0.89      3546\n",
      "\n",
      "   micro avg       0.80      0.80      0.80      4529\n",
      "   macro avg       0.62      0.41      0.42      4529\n",
      "weighted avg       0.75      0.80      0.74      4529\n",
      "\n"
     ]
    }
   ],
   "source": [
    "from sklearn.metrics import classification_report, f1_score, accuracy_score, mean_absolute_error\n",
    "\n",
    "# Random Forest\n",
    "y_preds = rf.predict(x_test)\n",
    "rf_f1 = f1_score(y_test, y_preds, average='weighted')\n",
    "rf_acc = accuracy_score(y_test, y_preds)\n",
    "rf_mae = mean_absolute_error(y_test, y_preds)\n",
    "print(\"Random Forest\")\n",
    "print(\"F1_Weighted\", rf_f1)\n",
    "print(\"Accuracy\", rf_acc)\n",
    "print(\"MAE\", rf_mae)\n",
    "print(\"*\"*40)\n",
    "\n",
    "classes = ['Bad', 'Neutral', 'Good']\n",
    "print(classification_report(y_test, y_preds, target_names=classes))"
   ]
  },
  {
   "cell_type": "code",
   "execution_count": 32,
   "metadata": {},
   "outputs": [
    {
     "name": "stdout",
     "output_type": "stream",
     "text": [
      "Logistic Regression\n",
      "F1_Weighted 0.786516369031218\n",
      "Accuracy 0.7906822698167366\n",
      "MAE 0.26849194082578937\n",
      "****************************************\n",
      "              precision    recall  f1-score   support\n",
      "\n",
      "         Bad       0.42      0.43      0.43       449\n",
      "     Neutral       0.34      0.29      0.32       534\n",
      "        Good       0.89      0.91      0.90      3546\n",
      "\n",
      "   micro avg       0.79      0.79      0.79      4529\n",
      "   macro avg       0.55      0.55      0.55      4529\n",
      "weighted avg       0.78      0.79      0.79      4529\n",
      "\n"
     ]
    }
   ],
   "source": [
    "# Logistic Regression\n",
    "y_preds = lr.predict(x_test)\n",
    "lr_f1 = f1_score(y_test, y_preds, average='weighted')\n",
    "lr_acc = accuracy_score(y_test, y_preds)\n",
    "lr_mae = mean_absolute_error(y_test, y_preds)\n",
    "print(\"Logistic Regression\")\n",
    "print(\"F1_Weighted\", lr_f1)\n",
    "print(\"Accuracy\", lr_acc)\n",
    "print(\"MAE\", lr_mae)\n",
    "print(\"*\"*40)\n",
    "\n",
    "classes = ['Bad', 'Neutral', 'Good']\n",
    "print(classification_report(y_test, y_preds, target_names=classes))"
   ]
  },
  {
   "cell_type": "code",
   "execution_count": 33,
   "metadata": {},
   "outputs": [
    {
     "name": "stdout",
     "output_type": "stream",
     "text": [
      "Bernoulli NB\n",
      "F1_Weighted 0.8028628498123824\n",
      "Accuracy 0.7999558401413116\n",
      "MAE 0.24243762419960257\n",
      "              precision    recall  f1-score   support\n",
      "\n",
      "         Bad       0.51      0.50      0.51       449\n",
      "     Neutral       0.35      0.38      0.36       534\n",
      "        Good       0.91      0.90      0.91      3546\n",
      "\n",
      "   micro avg       0.80      0.80      0.80      4529\n",
      "   macro avg       0.59      0.60      0.59      4529\n",
      "weighted avg       0.81      0.80      0.80      4529\n",
      "\n"
     ]
    }
   ],
   "source": [
    "# Bernoulli NB\n",
    "from sklearn.naive_bayes import BernoulliNB\n",
    "bnb = BernoulliNB()\n",
    "bnb.fit(x_train, y_train)\n",
    "\n",
    "y_preds = bnb.predict(x_test)\n",
    "bnb_f1 = f1_score(y_test, y_preds, average='weighted')\n",
    "bnb_acc = accuracy_score(y_test, y_preds)\n",
    "bnb_mae = mean_absolute_error(y_test, y_preds)\n",
    "print(\"Bernoulli NB\")\n",
    "print(\"F1_Weighted\", bnb_f1)\n",
    "print(\"Accuracy\", bnb_acc)\n",
    "print(\"MAE\", bnb_mae)\n",
    "\n",
    "classes = ['Bad', 'Neutral', 'Good']\n",
    "print(classification_report(y_test, y_preds, target_names=classes))"
   ]
  },
  {
   "cell_type": "code",
   "execution_count": 34,
   "metadata": {},
   "outputs": [
    {
     "name": "stdout",
     "output_type": "stream",
     "text": [
      "# 'Bad':\n",
      "  . Top unigrams:\n",
      "       . tops\n",
      "       . look\n",
      "       . love\n",
      "       . dresses\n",
      "       . size\n",
      "# 'Neutral':\n",
      "  . Top unigrams:\n",
      "       . tops\n",
      "       . look\n",
      "       . size\n",
      "       . dresses\n",
      "       . fit\n",
      "# 'Good':\n",
      "  . Top unigrams:\n",
      "       . tops\n",
      "       . fit\n",
      "       . size\n",
      "       . love\n",
      "       . look\n"
     ]
    }
   ],
   "source": [
    "import numpy as np\n",
    "N = 5\n",
    "for i, class_name in enumerate(classes):\n",
    "  indices = np.argsort(bnb.coef_[i])\n",
    "  feature_names = np.array(X_feats.columns.values)[indices]\n",
    "  unigrams = [v for v in reversed(feature_names) if len(v.split(' ')) == 1][:N]\n",
    "  print(\"# '{}':\".format(class_name))\n",
    "  print(\"  . Top unigrams:\\n       . {}\".format('\\n       . '.join(unigrams)))"
   ]
  }
 ],
 "metadata": {
  "kernelspec": {
   "display_name": "Python 3",
   "language": "python",
   "name": "python3"
  },
  "language_info": {
   "codemirror_mode": {
    "name": "ipython",
    "version": 3
   },
   "file_extension": ".py",
   "mimetype": "text/x-python",
   "name": "python",
   "nbconvert_exporter": "python",
   "pygments_lexer": "ipython3",
   "version": "3.7.3"
  }
 },
 "nbformat": 4,
 "nbformat_minor": 2
}
