{
 "cells": [
  {
   "cell_type": "code",
   "execution_count": 1,
   "metadata": {},
   "outputs": [],
   "source": [
    "import re\n",
    "import pandas as pd\n",
    "from tqdm.auto import tqdm\n",
    "tqdm.pandas()\n",
    "from collections import defaultdict\n",
    "#import spacy\n",
    "#import textacy\n",
    "#nlp = spacy.load(\"en_core_web_sm\", disable=[\"parser\", \"ner\"])"
   ]
  },
  {
   "cell_type": "code",
   "execution_count": 2,
   "metadata": {},
   "outputs": [],
   "source": [
    "# load term matrix\n",
    "import pickle\n",
    "with open('data/term_matrix.pkl', 'rb') as f:\n",
    "    matrix = pickle.load(f)\n",
    "    f.close()"
   ]
  },
  {
   "cell_type": "code",
   "execution_count": 3,
   "metadata": {},
   "outputs": [],
   "source": [
    "# load original reviews df\n",
    "with open('data/reviews_clean.pkl', 'rb') as f:\n",
    "    reviews = pickle.load(f)\n",
    "    f.close()"
   ]
  },
  {
   "cell_type": "code",
   "execution_count": 4,
   "metadata": {},
   "outputs": [],
   "source": [
    "# load look-up dict\n",
    "with open('data/vocab_key.pkl', 'rb') as f:\n",
    "    vocab = pickle.load(f)\n",
    "    f.close()"
   ]
  },
  {
   "cell_type": "code",
   "execution_count": 5,
   "metadata": {
    "scrolled": true
   },
   "outputs": [
    {
     "data": {
      "text/plain": [
       "(22641, 2000)"
      ]
     },
     "execution_count": 5,
     "metadata": {},
     "output_type": "execute_result"
    }
   ],
   "source": [
    "matrix.shape"
   ]
  },
  {
   "cell_type": "code",
   "execution_count": null,
   "metadata": {},
   "outputs": [],
   "source": [
    "# make class balanced\n",
    "# processed_df = reviews.groupby('star_rating')\n",
    "# processed_df = pd.DataFrame(processed_df.progress_apply(\n",
    "#     lambda x: x.sample(processed_df.size().min()).reset_index(drop=True)))\n",
    "# processed_df.head()"
   ]
  },
  {
   "cell_type": "code",
   "execution_count": 8,
   "metadata": {},
   "outputs": [],
   "source": [
    "# create new df\n",
    "y = reviews['star_rating']\n",
    "\n",
    "# Try product department instead of class\n",
    "X = pd.DataFrame({'class':reviews['product_category_department'],\n",
    "                  'upvotes':reviews['upvotes']})"
   ]
  },
  {
   "cell_type": "code",
   "execution_count": 9,
   "metadata": {},
   "outputs": [],
   "source": [
    "# create df for features\n",
    "lemmas = pd.DataFrame(columns=vocab.keys())"
   ]
  },
  {
   "cell_type": "code",
   "execution_count": 10,
   "metadata": {
    "scrolled": true
   },
   "outputs": [
    {
     "data": {
      "application/vnd.jupyter.widget-view+json": {
       "model_id": "845621e9064f4e5798f8ad850ce200ea",
       "version_major": 2,
       "version_minor": 0
      },
      "text/plain": [
       "HBox(children=(IntProgress(value=0, description='Adding data to columns', max=2000, style=ProgressStyle(descri…"
      ]
     },
     "metadata": {},
     "output_type": "display_data"
    },
    {
     "name": "stdout",
     "output_type": "stream",
     "text": [
      "\n"
     ]
    }
   ],
   "source": [
    "NUM_DOCS = len(X)\n",
    "\n",
    "for c in tqdm(lemmas.columns.values, desc='Adding data to columns'):\n",
    "    vocab_index = vocab[c]\n",
    "    data = []\n",
    "    for i in range(NUM_DOCS):\n",
    "        data.append(matrix[(i, vocab_index)])\n",
    "    lemmas[c] = data"
   ]
  },
  {
   "cell_type": "code",
   "execution_count": 11,
   "metadata": {},
   "outputs": [
    {
     "data": {
      "text/plain": [
       "(22641, 2)"
      ]
     },
     "execution_count": 11,
     "metadata": {},
     "output_type": "execute_result"
    }
   ],
   "source": [
    "X = X.reset_index(drop=True)\n",
    "X.shape"
   ]
  },
  {
   "cell_type": "code",
   "execution_count": 12,
   "metadata": {},
   "outputs": [
    {
     "data": {
      "text/plain": [
       "(22641, 2000)"
      ]
     },
     "execution_count": 12,
     "metadata": {},
     "output_type": "execute_result"
    }
   ],
   "source": [
    "lemmas = lemmas.reset_index(drop=True)\n",
    "lemmas.shape"
   ]
  },
  {
   "cell_type": "code",
   "execution_count": 13,
   "metadata": {},
   "outputs": [],
   "source": [
    "X_feats = pd.concat([X, lemmas], axis=1)"
   ]
  },
  {
   "cell_type": "code",
   "execution_count": 14,
   "metadata": {},
   "outputs": [
    {
     "data": {
      "text/plain": [
       "(22641, 2002)"
      ]
     },
     "execution_count": 14,
     "metadata": {},
     "output_type": "execute_result"
    }
   ],
   "source": [
    "X_feats.shape"
   ]
  },
  {
   "cell_type": "code",
   "execution_count": 15,
   "metadata": {
    "scrolled": true
   },
   "outputs": [],
   "source": [
    "# make product class dummy variable\n",
    "prod_class = pd.get_dummies(X['class'])\n",
    "prod_class = prod_class.reset_index(drop=True)"
   ]
  },
  {
   "cell_type": "code",
   "execution_count": 16,
   "metadata": {},
   "outputs": [],
   "source": [
    "# drop original class columns\n",
    "# concat prod_class\n",
    "X_feats.drop('class', axis=1, inplace=True)\n",
    "X_feats = pd.concat([X_feats, prod_class], axis=1)"
   ]
  },
  {
   "cell_type": "code",
   "execution_count": 17,
   "metadata": {},
   "outputs": [
    {
     "data": {
      "text/plain": [
       "(22641, 2006)"
      ]
     },
     "execution_count": 17,
     "metadata": {},
     "output_type": "execute_result"
    }
   ],
   "source": [
    "X_feats.shape"
   ]
  },
  {
   "cell_type": "code",
   "execution_count": 18,
   "metadata": {},
   "outputs": [
    {
     "name": "stderr",
     "output_type": "stream",
     "text": [
      "/Library/Frameworks/Python.framework/Versions/3.7/lib/python3.7/site-packages/sklearn/preprocessing/data.py:645: DataConversionWarning: Data with input dtype uint8, int64, object were all converted to float64 by StandardScaler.\n",
      "  return self.partial_fit(X, y)\n",
      "/Library/Frameworks/Python.framework/Versions/3.7/lib/python3.7/site-packages/sklearn/base.py:464: DataConversionWarning: Data with input dtype uint8, int64, object were all converted to float64 by StandardScaler.\n",
      "  return self.fit(X, **fit_params).transform(X)\n",
      "/Library/Frameworks/Python.framework/Versions/3.7/lib/python3.7/site-packages/ipykernel_launcher.py:8: DataConversionWarning: Data with input dtype uint8, int64, object were all converted to float64 by StandardScaler.\n",
      "  \n"
     ]
    }
   ],
   "source": [
    "from sklearn.preprocessing import StandardScaler\n",
    "from sklearn.model_selection import train_test_split\n",
    "\n",
    "x_train, x_test, y_train, y_test = train_test_split(X_feats, y, test_size=0.2)\n",
    "\n",
    "scaler = StandardScaler()\n",
    "x_train = scaler.fit_transform(x_train)\n",
    "x_test = scaler.transform(x_test)"
   ]
  },
  {
   "cell_type": "code",
   "execution_count": 19,
   "metadata": {},
   "outputs": [
    {
     "data": {
      "text/plain": [
       "RandomForestClassifier(bootstrap=True, class_weight=None, criterion='gini',\n",
       "            max_depth=None, max_features='auto', max_leaf_nodes=None,\n",
       "            min_impurity_decrease=0.0, min_impurity_split=None,\n",
       "            min_samples_leaf=1, min_samples_split=2,\n",
       "            min_weight_fraction_leaf=0.0, n_estimators=100, n_jobs=None,\n",
       "            oob_score=False, random_state=None, verbose=0,\n",
       "            warm_start=False)"
      ]
     },
     "execution_count": 19,
     "metadata": {},
     "output_type": "execute_result"
    }
   ],
   "source": [
    "# Fit Random Forest\n",
    "from sklearn.ensemble import RandomForestClassifier\n",
    "\n",
    "rf = RandomForestClassifier(n_estimators=100)\n",
    "rf.fit(x_train, y_train)"
   ]
  },
  {
   "cell_type": "code",
   "execution_count": 20,
   "metadata": {},
   "outputs": [
    {
     "data": {
      "text/plain": [
       "LogisticRegression(C=1.0, class_weight=None, dual=False, fit_intercept=True,\n",
       "          intercept_scaling=1, max_iter=100, multi_class='multinomial',\n",
       "          n_jobs=-1, penalty='l2', random_state=None, solver='lbfgs',\n",
       "          tol=0.0001, verbose=0, warm_start=False)"
      ]
     },
     "execution_count": 20,
     "metadata": {},
     "output_type": "execute_result"
    }
   ],
   "source": [
    "# Fit Logistic Regression\n",
    "from sklearn.linear_model import LogisticRegression\n",
    "\n",
    "lr = LogisticRegression(solver='lbfgs', \n",
    "                        multi_class='multinomial', \n",
    "                        n_jobs=-1)\n",
    "lr.fit(x_train, y_train)"
   ]
  },
  {
   "cell_type": "code",
   "execution_count": 21,
   "metadata": {},
   "outputs": [],
   "source": [
    "# Evaluate accuracy\n",
    "from sklearn.metrics import f1_score, accuracy_score, mean_absolute_error\n",
    "\n",
    "# Random Forest\n",
    "y_preds = rf.predict(x_test)\n",
    "rf_f1 = f1_score(y_test, y_preds, average='weighted')\n",
    "rf_acc = accuracy_score(y_test, y_preds)\n",
    "rf_mae = mean_absolute_error(y_test, y_preds)\n",
    "\n",
    "# Logistic Regression\n",
    "y_preds = lr.predict(x_test)\n",
    "lr_f1 = f1_score(y_test, y_preds, average='weighted')\n",
    "lr_acc = accuracy_score(y_test, y_preds)\n",
    "lr_mae = mean_absolute_error(y_test, y_preds)"
   ]
  },
  {
   "cell_type": "code",
   "execution_count": 22,
   "metadata": {},
   "outputs": [
    {
     "name": "stdout",
     "output_type": "stream",
     "text": [
      "Random Forest\n",
      "F1_Weighted 0.47576744554872674\n",
      "Accuracy 0.5837933318613381\n",
      "MAE 0.6778538308677412\n",
      "****************************************\n",
      "Logistic Regression\n",
      "F1_Weighted 0.557023455256379\n",
      "Accuracy 0.5648045926253036\n",
      "MAE 0.6520203135349967\n"
     ]
    }
   ],
   "source": [
    "print(\"Random Forest\")\n",
    "print(\"F1_Weighted\", rf_f1)\n",
    "print(\"Accuracy\", rf_acc)\n",
    "print(\"MAE\", rf_mae)\n",
    "print(\"*\"*40)\n",
    "print(\"Logistic Regression\")\n",
    "print(\"F1_Weighted\", lr_f1)\n",
    "print(\"Accuracy\", lr_acc)\n",
    "print(\"MAE\", lr_mae)"
   ]
  },
  {
   "cell_type": "code",
   "execution_count": 23,
   "metadata": {},
   "outputs": [
    {
     "name": "stdout",
     "output_type": "stream",
     "text": [
      "              precision    recall  f1-score   support\n",
      "\n",
      "           1       0.18      0.32      0.23       147\n",
      "           2       0.22      0.21      0.21       330\n",
      "           3       0.32      0.30      0.31       539\n",
      "           4       0.37      0.28      0.32       996\n",
      "           5       0.75      0.80      0.77      2517\n",
      "\n",
      "   micro avg       0.56      0.56      0.56      4529\n",
      "   macro avg       0.37      0.38      0.37      4529\n",
      "weighted avg       0.55      0.56      0.56      4529\n",
      "\n"
     ]
    }
   ],
   "source": [
    "from sklearn.metrics import classification_report\n",
    "\n",
    "print(classification_report(y_test, y_preds))"
   ]
  },
  {
   "cell_type": "code",
   "execution_count": 25,
   "metadata": {},
   "outputs": [
    {
     "name": "stdout",
     "output_type": "stream",
     "text": [
      "SVC\n",
      "F1_Weighted 0.46124931738325053\n",
      "Accuracy 0.5089423713844116\n",
      "MAE 0.7922278648708324\n"
     ]
    }
   ],
   "source": [
    "# kNN\n",
    "from sklearn.neighbors import KNeighborsClassifier\n",
    "knn = KNeighborsClassifier()\n",
    "knn.fit(x_train, y_train)\n",
    "\n",
    "y_preds = knn.predict(x_test)\n",
    "knn_f1 = f1_score(y_test, y_preds, average='weighted')\n",
    "knn_acc = accuracy_score(y_test, y_preds)\n",
    "knn_mae = mean_absolute_error(y_test, y_preds)\n",
    "\n",
    "print(\"SVC\")\n",
    "print(\"F1_Weighted\", knn_f1)\n",
    "print(\"Accuracy\", knn_acc)\n",
    "print(\"MAE\", knn_mae)"
   ]
  },
  {
   "cell_type": "code",
   "execution_count": 35,
   "metadata": {},
   "outputs": [],
   "source": [
    "# change to a 3 class problem\n",
    "new_ys = []\n",
    "for score in y:\n",
    "    if score < 3:\n",
    "        new_ys.append(0)\n",
    "    elif score == 3:\n",
    "        new_ys.append(1)\n",
    "    else:\n",
    "        new_ys.append(2)"
   ]
  },
  {
   "cell_type": "code",
   "execution_count": 36,
   "metadata": {},
   "outputs": [
    {
     "name": "stderr",
     "output_type": "stream",
     "text": [
      "/Library/Frameworks/Python.framework/Versions/3.7/lib/python3.7/site-packages/sklearn/preprocessing/data.py:645: DataConversionWarning: Data with input dtype uint8, int64, object were all converted to float64 by StandardScaler.\n",
      "  return self.partial_fit(X, y)\n",
      "/Library/Frameworks/Python.framework/Versions/3.7/lib/python3.7/site-packages/sklearn/base.py:464: DataConversionWarning: Data with input dtype uint8, int64, object were all converted to float64 by StandardScaler.\n",
      "  return self.fit(X, **fit_params).transform(X)\n",
      "/Library/Frameworks/Python.framework/Versions/3.7/lib/python3.7/site-packages/ipykernel_launcher.py:6: DataConversionWarning: Data with input dtype uint8, int64, object were all converted to float64 by StandardScaler.\n",
      "  \n"
     ]
    }
   ],
   "source": [
    "# resplit and fit scaler\n",
    "x_train, x_test, y_train, y_test = train_test_split(X_feats, new_ys, test_size=0.2)\n",
    "\n",
    "scaler = StandardScaler()\n",
    "x_train = scaler.fit_transform(x_train)\n",
    "x_test = scaler.transform(x_test)"
   ]
  },
  {
   "cell_type": "code",
   "execution_count": 37,
   "metadata": {},
   "outputs": [
    {
     "data": {
      "text/plain": [
       "RandomForestClassifier(bootstrap=True, class_weight=None, criterion='gini',\n",
       "            max_depth=None, max_features='auto', max_leaf_nodes=None,\n",
       "            min_impurity_decrease=0.0, min_impurity_split=None,\n",
       "            min_samples_leaf=1, min_samples_split=2,\n",
       "            min_weight_fraction_leaf=0.0, n_estimators=100, n_jobs=None,\n",
       "            oob_score=False, random_state=None, verbose=0,\n",
       "            warm_start=False)"
      ]
     },
     "execution_count": 37,
     "metadata": {},
     "output_type": "execute_result"
    }
   ],
   "source": [
    "# Fit Random Forest\n",
    "from sklearn.ensemble import RandomForestClassifier\n",
    "\n",
    "rf = RandomForestClassifier(n_estimators=100)\n",
    "rf.fit(x_train, y_train)"
   ]
  },
  {
   "cell_type": "code",
   "execution_count": 38,
   "metadata": {},
   "outputs": [
    {
     "data": {
      "text/plain": [
       "LogisticRegression(C=1.0, class_weight=None, dual=False, fit_intercept=True,\n",
       "          intercept_scaling=1, max_iter=100, multi_class='multinomial',\n",
       "          n_jobs=-1, penalty='l2', random_state=None, solver='lbfgs',\n",
       "          tol=0.0001, verbose=0, warm_start=False)"
      ]
     },
     "execution_count": 38,
     "metadata": {},
     "output_type": "execute_result"
    }
   ],
   "source": [
    "# Fit Logistic Regression\n",
    "from sklearn.linear_model import LogisticRegression\n",
    "\n",
    "lr = LogisticRegression(solver='lbfgs', \n",
    "                        multi_class='multinomial', \n",
    "                        n_jobs=-1)\n",
    "lr.fit(x_train, y_train)"
   ]
  },
  {
   "cell_type": "code",
   "execution_count": 39,
   "metadata": {},
   "outputs": [],
   "source": [
    "# Random Forest\n",
    "y_preds = rf.predict(x_test)\n",
    "rf_f1 = f1_score(y_test, y_preds, average='weighted')\n",
    "rf_acc = accuracy_score(y_test, y_preds)\n",
    "rf_mae = mean_absolute_error(y_test, y_preds)\n",
    "\n",
    "# Logistic Regression\n",
    "y_preds = lr.predict(x_test)\n",
    "lr_f1 = f1_score(y_test, y_preds, average='weighted')\n",
    "lr_acc = accuracy_score(y_test, y_preds)\n",
    "lr_mae = mean_absolute_error(y_test, y_preds)"
   ]
  },
  {
   "cell_type": "code",
   "execution_count": 40,
   "metadata": {},
   "outputs": [
    {
     "name": "stdout",
     "output_type": "stream",
     "text": [
      "Random Forest\n",
      "F1_Weighted 0.7062887722970488\n",
      "Accuracy 0.7805255023183926\n",
      "MAE 0.3108854051667035\n",
      "****************************************\n",
      "Logistic Regression\n",
      "F1_Weighted 0.7738300356842205\n",
      "Accuracy 0.7831750938396997\n",
      "MAE 0.2788695076175756\n"
     ]
    }
   ],
   "source": [
    "print(\"Random Forest\")\n",
    "print(\"F1_Weighted\", rf_f1)\n",
    "print(\"Accuracy\", rf_acc)\n",
    "print(\"MAE\", rf_mae)\n",
    "print(\"*\"*40)\n",
    "print(\"Logistic Regression\")\n",
    "print(\"F1_Weighted\", lr_f1)\n",
    "print(\"Accuracy\", lr_acc)\n",
    "print(\"MAE\", lr_mae)"
   ]
  }
 ],
 "metadata": {
  "kernelspec": {
   "display_name": "Python 3",
   "language": "python",
   "name": "python3"
  },
  "language_info": {
   "codemirror_mode": {
    "name": "ipython",
    "version": 3
   },
   "file_extension": ".py",
   "mimetype": "text/x-python",
   "name": "python",
   "nbconvert_exporter": "python",
   "pygments_lexer": "ipython3",
   "version": "3.7.3"
  }
 },
 "nbformat": 4,
 "nbformat_minor": 2
}
