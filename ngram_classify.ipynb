{
 "cells": [
  {
   "cell_type": "code",
   "execution_count": 1,
   "metadata": {},
   "outputs": [],
   "source": [
    "import re\n",
    "import pandas as pd\n",
    "from tqdm.auto import tqdm\n",
    "tqdm.pandas()\n",
    "from collections import defaultdict\n",
    "import pickle"
   ]
  },
  {
   "cell_type": "code",
   "execution_count": 2,
   "metadata": {},
   "outputs": [],
   "source": [
    "with open(\"data/reviews_processed.pkl\", \"rb\") as f:\n",
    "    reviews = pickle.load(f)\n",
    "    f.close()"
   ]
  },
  {
   "cell_type": "code",
   "execution_count": 6,
   "metadata": {},
   "outputs": [],
   "source": [
    "# load term matrix\n",
    "with open('data/ngram_matrix.pkl', 'rb') as f:\n",
    "    matrix = pickle.load(f)\n",
    "    f.close()"
   ]
  },
  {
   "cell_type": "code",
   "execution_count": 7,
   "metadata": {},
   "outputs": [],
   "source": [
    "# load look-up dict\n",
    "with open('data/ngram_vocab.pkl', 'rb') as f:\n",
    "    vocab = pickle.load(f)\n",
    "    f.close()"
   ]
  },
  {
   "cell_type": "code",
   "execution_count": 8,
   "metadata": {},
   "outputs": [],
   "source": [
    "# create new df\n",
    "y = reviews['star_rating']\n",
    "\n",
    "# Try product department instead of class\n",
    "X = pd.DataFrame({'class':reviews['product_category_department'],\n",
    "                  'upvotes':reviews['upvotes']})"
   ]
  },
  {
   "cell_type": "code",
   "execution_count": 9,
   "metadata": {},
   "outputs": [
    {
     "data": {
      "application/vnd.jupyter.widget-view+json": {
       "model_id": "af2bd7c61deb4137bffecc2e160db2e0",
       "version_major": 2,
       "version_minor": 0
      },
      "text/plain": [
       "HBox(children=(IntProgress(value=0, description='Adding data to columns', max=2000, style=ProgressStyle(descri…"
      ]
     },
     "metadata": {},
     "output_type": "display_data"
    },
    {
     "name": "stdout",
     "output_type": "stream",
     "text": [
      "\n"
     ]
    }
   ],
   "source": [
    "# create df for features\n",
    "lemmas = pd.DataFrame(columns=vocab.keys())\n",
    "\n",
    "NUM_DOCS = len(X)\n",
    "\n",
    "for c in tqdm(lemmas.columns.values, desc='Adding data to columns'):\n",
    "    vocab_index = vocab[c]\n",
    "    data = []\n",
    "    for i in range(NUM_DOCS):\n",
    "        data.append(matrix[(i, vocab_index)])\n",
    "    lemmas[c] = data"
   ]
  },
  {
   "cell_type": "code",
   "execution_count": 10,
   "metadata": {},
   "outputs": [],
   "source": [
    "X = X.reset_index(drop=True)\n",
    "lemmas = lemmas.reset_index(drop=True)\n",
    "X_feats = pd.concat([X, lemmas], axis=1)\n",
    "# make product class dummy variable\n",
    "prod_class = pd.get_dummies(X['class'])\n",
    "prod_class = prod_class.reset_index(drop=True)\n",
    "# drop original class columns\n",
    "# concat prod_class\n",
    "X_feats.drop('class', axis=1, inplace=True)\n",
    "X_feats = pd.concat([X_feats, prod_class], axis=1)\n",
    "X_feats = X_feats.drop('upvotes', axis=1)\n",
    "\n",
    "X_feats.to_csv(\"data/ngram_features.csv\", index=False)"
   ]
  },
  {
   "cell_type": "code",
   "execution_count": 11,
   "metadata": {},
   "outputs": [],
   "source": [
    "# change to a 3 class problem\n",
    "new_ys = []\n",
    "for score in y:\n",
    "    if score < 3:\n",
    "        new_ys.append(0)\n",
    "    elif score == 3:\n",
    "        new_ys.append(1)\n",
    "    else:\n",
    "        new_ys.append(2)"
   ]
  },
  {
   "cell_type": "code",
   "execution_count": 34,
   "metadata": {},
   "outputs": [
    {
     "name": "stderr",
     "output_type": "stream",
     "text": [
      "/Library/Frameworks/Python.framework/Versions/3.7/lib/python3.7/site-packages/sklearn/preprocessing/data.py:645: DataConversionWarning: Data with input dtype uint8, object were all converted to float64 by StandardScaler.\n",
      "  return self.partial_fit(X, y)\n",
      "/Library/Frameworks/Python.framework/Versions/3.7/lib/python3.7/site-packages/sklearn/base.py:464: DataConversionWarning: Data with input dtype uint8, object were all converted to float64 by StandardScaler.\n",
      "  return self.fit(X, **fit_params).transform(X)\n",
      "/Library/Frameworks/Python.framework/Versions/3.7/lib/python3.7/site-packages/ipykernel_launcher.py:9: DataConversionWarning: Data with input dtype uint8, object were all converted to float64 by StandardScaler.\n",
      "  if __name__ == '__main__':\n"
     ]
    }
   ],
   "source": [
    "from sklearn.model_selection import train_test_split\n",
    "from sklearn.preprocessing import StandardScaler\n",
    "\n",
    "# resplit and fit scaler\n",
    "x_train, x_test, y_train, y_test = train_test_split(X_feats, new_ys, test_size=0.2, random_state=1234)\n",
    "\n",
    "scaler = StandardScaler()\n",
    "x_train = scaler.fit_transform(x_train)\n",
    "x_test = scaler.transform(x_test)"
   ]
  },
  {
   "cell_type": "code",
   "execution_count": 27,
   "metadata": {},
   "outputs": [
    {
     "data": {
      "text/plain": [
       "RandomForestClassifier(bootstrap=True, class_weight=None, criterion='gini',\n",
       "            max_depth=None, max_features='auto', max_leaf_nodes=None,\n",
       "            min_impurity_decrease=0.0, min_impurity_split=None,\n",
       "            min_samples_leaf=1, min_samples_split=2,\n",
       "            min_weight_fraction_leaf=0.0, n_estimators=100, n_jobs=None,\n",
       "            oob_score=False, random_state=None, verbose=0,\n",
       "            warm_start=False)"
      ]
     },
     "execution_count": 27,
     "metadata": {},
     "output_type": "execute_result"
    }
   ],
   "source": [
    "# Fit Random Forest\n",
    "from sklearn.ensemble import RandomForestClassifier\n",
    "\n",
    "rf = RandomForestClassifier(n_estimators=100)\n",
    "rf.fit(x_train, y_train)"
   ]
  },
  {
   "cell_type": "code",
   "execution_count": 28,
   "metadata": {},
   "outputs": [
    {
     "data": {
      "text/plain": [
       "LogisticRegression(C=1.0, class_weight=None, dual=False, fit_intercept=True,\n",
       "          intercept_scaling=1, max_iter=100, multi_class='multinomial',\n",
       "          n_jobs=-1, penalty='l2', random_state=None, solver='lbfgs',\n",
       "          tol=0.0001, verbose=0, warm_start=False)"
      ]
     },
     "execution_count": 28,
     "metadata": {},
     "output_type": "execute_result"
    }
   ],
   "source": [
    "# Fit Logistic Regression\n",
    "from sklearn.linear_model import LogisticRegression\n",
    "\n",
    "lr = LogisticRegression(solver='lbfgs', \n",
    "                        multi_class='multinomial', \n",
    "                        n_jobs=-1)\n",
    "lr.fit(x_train, y_train)"
   ]
  },
  {
   "cell_type": "code",
   "execution_count": 29,
   "metadata": {},
   "outputs": [
    {
     "name": "stdout",
     "output_type": "stream",
     "text": [
      "Random Forest\n",
      "F1_Weighted 0.7580024499901495\n",
      "Accuracy 0.8098918083462133\n",
      "MAE 0.2589975712077721\n",
      "****************************************\n",
      "              precision    recall  f1-score   support\n",
      "\n",
      "         Bad       0.62      0.27      0.38       449\n",
      "     Neutral       0.42      0.08      0.13       534\n",
      "        Good       0.83      0.99      0.90      3546\n",
      "\n",
      "   micro avg       0.81      0.81      0.81      4529\n",
      "   macro avg       0.62      0.44      0.47      4529\n",
      "weighted avg       0.76      0.81      0.76      4529\n",
      "\n"
     ]
    }
   ],
   "source": [
    "from sklearn.metrics import classification_report, f1_score, accuracy_score, mean_absolute_error\n",
    "\n",
    "# Random Forest\n",
    "y_preds = rf.predict(x_test)\n",
    "rf_f1 = f1_score(y_test, y_preds, average='weighted')\n",
    "rf_acc = accuracy_score(y_test, y_preds)\n",
    "rf_mae = mean_absolute_error(y_test, y_preds)\n",
    "print(\"Random Forest\")\n",
    "print(\"F1_Weighted\", rf_f1)\n",
    "print(\"Accuracy\", rf_acc)\n",
    "print(\"MAE\", rf_mae)\n",
    "print(\"*\"*40)\n",
    "\n",
    "classes = ['Bad', 'Neutral', 'Good']\n",
    "print(classification_report(y_test, y_preds, target_names=classes))"
   ]
  },
  {
   "cell_type": "code",
   "execution_count": 30,
   "metadata": {},
   "outputs": [
    {
     "name": "stdout",
     "output_type": "stream",
     "text": [
      "Logistic Regression\n",
      "F1_Weighted 0.7971321035659268\n",
      "Accuracy 0.797747847206889\n",
      "MAE 0.2583351733274454\n",
      "****************************************\n",
      "              precision    recall  f1-score   support\n",
      "\n",
      "         Bad       0.43      0.47      0.45       449\n",
      "     Neutral       0.37      0.34      0.36       534\n",
      "        Good       0.91      0.91      0.91      3546\n",
      "\n",
      "   micro avg       0.80      0.80      0.80      4529\n",
      "   macro avg       0.57      0.57      0.57      4529\n",
      "weighted avg       0.80      0.80      0.80      4529\n",
      "\n"
     ]
    }
   ],
   "source": [
    "# Logistic Regression\n",
    "y_preds = lr.predict(x_test)\n",
    "lr_f1 = f1_score(y_test, y_preds, average='weighted')\n",
    "lr_acc = accuracy_score(y_test, y_preds)\n",
    "lr_mae = mean_absolute_error(y_test, y_preds)\n",
    "print(\"Logistic Regression\")\n",
    "print(\"F1_Weighted\", lr_f1)\n",
    "print(\"Accuracy\", lr_acc)\n",
    "print(\"MAE\", lr_mae)\n",
    "print(\"*\"*40)\n",
    "\n",
    "classes = ['Bad', 'Neutral', 'Good']\n",
    "print(classification_report(y_test, y_preds, target_names=classes))"
   ]
  },
  {
   "cell_type": "code",
   "execution_count": 37,
   "metadata": {},
   "outputs": [
    {
     "name": "stdout",
     "output_type": "stream",
     "text": [
      "Bernoulli NB\n",
      "F1_Weighted 0.8059131165362621\n",
      "Accuracy 0.7948774563921396\n",
      "MAE 0.24707440936189004\n",
      "              precision    recall  f1-score   support\n",
      "\n",
      "         Bad       0.47      0.56      0.51       449\n",
      "     Neutral       0.35      0.43      0.38       534\n",
      "        Good       0.94      0.88      0.91      3546\n",
      "\n",
      "   micro avg       0.79      0.79      0.79      4529\n",
      "   macro avg       0.59      0.62      0.60      4529\n",
      "weighted avg       0.82      0.79      0.81      4529\n",
      "\n"
     ]
    }
   ],
   "source": [
    "# Bernoulli NB\n",
    "from sklearn.naive_bayes import BernoulliNB\n",
    "bnb = BernoulliNB()\n",
    "bnb.fit(x_train, y_train)\n",
    "\n",
    "y_preds = bnb.predict(x_test)\n",
    "bnb_f1 = f1_score(y_test, y_preds, average='weighted')\n",
    "bnb_acc = accuracy_score(y_test, y_preds)\n",
    "bnb_mae = mean_absolute_error(y_test, y_preds)\n",
    "print(\"Bernoulli NB\")\n",
    "print(\"F1_Weighted\", bnb_f1)\n",
    "print(\"Accuracy\", bnb_acc)\n",
    "print(\"MAE\", bnb_mae)\n",
    "\n",
    "classes = ['Bad', 'Neutral', 'Good']\n",
    "print(classification_report(y_test, y_preds, target_names=classes))"
   ]
  },
  {
   "cell_type": "code",
   "execution_count": 32,
   "metadata": {},
   "outputs": [
    {
     "name": "stdout",
     "output_type": "stream",
     "text": [
      "# 'Bad':\n",
      "  . Top unigrams:\n",
      "       . tops\n",
      "       . like\n",
      "       . dresses\n",
      "       . size\n",
      "       . fit\n",
      "  . Top bigrams:\n",
      "       . wanted love\n",
      "       . looked like\n",
      "       . looks like\n",
      "       . ordered size\n",
      "       . really wanted\n",
      "# 'Neutral':\n",
      "  . Top unigrams:\n",
      "       . tops\n",
      "       . like\n",
      "       . size\n",
      "       . fit\n",
      "       . dresses\n",
      "  . Top bigrams:\n",
      "       . wanted love\n",
      "       . true size\n",
      "       . did work\n",
      "       . just did\n",
      "       . really wanted\n",
      "# 'Good':\n",
      "  . Top unigrams:\n",
      "       . tops\n",
      "       . love\n",
      "       . size\n",
      "       . fit\n",
      "       . wear\n",
      "  . Top bigrams:\n",
      "       . true size\n",
      "       . looks great\n",
      "       . usually wear\n",
      "       . fit perfectly\n",
      "       . love dress\n"
     ]
    }
   ],
   "source": [
    "import numpy as np\n",
    "N = 5\n",
    "for i, class_name in enumerate(classes):\n",
    "    indices = np.argsort(bnb.coef_[i])\n",
    "    feature_names = np.array(X_feats.columns.values)[indices]\n",
    "    unigrams = [v for v in reversed(feature_names) if len(v.split(' ')) == 1][:N]\n",
    "    bigrams = [v for v in reversed(feature_names) if len(v.split(' ')) == 2][:N]\n",
    "    print(\"# '{}':\".format(class_name))\n",
    "    print(\"  . Top unigrams:\\n       . {}\".format('\\n       . '.join(unigrams)))\n",
    "    print(\"  . Top bigrams:\\n       . {}\".format('\\n       . '.join(bigrams)))"
   ]
  }
 ],
 "metadata": {
  "kernelspec": {
   "display_name": "Python 3",
   "language": "python",
   "name": "python3"
  },
  "language_info": {
   "codemirror_mode": {
    "name": "ipython",
    "version": 3
   },
   "file_extension": ".py",
   "mimetype": "text/x-python",
   "name": "python",
   "nbconvert_exporter": "python",
   "pygments_lexer": "ipython3",
   "version": "3.7.3"
  }
 },
 "nbformat": 4,
 "nbformat_minor": 2
}
